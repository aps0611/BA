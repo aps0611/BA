{
 "cells": [
  {
   "cell_type": "code",
   "execution_count": 36,
   "id": "f00ee840",
   "metadata": {},
   "outputs": [],
   "source": [
    "import numpy as np\n",
    "import pandas as pd\n",
    "from scipy import stats"
   ]
  },
  {
   "cell_type": "code",
   "execution_count": 37,
   "id": "8ab7eca5",
   "metadata": {},
   "outputs": [],
   "source": [
    "df = pd.read_csv('chiSquare.csv')"
   ]
  },
  {
   "cell_type": "code",
   "execution_count": 38,
   "id": "15dd83a0",
   "metadata": {},
   "outputs": [
    {
     "data": {
      "text/html": [
       "<div>\n",
       "<style scoped>\n",
       "    .dataframe tbody tr th:only-of-type {\n",
       "        vertical-align: middle;\n",
       "    }\n",
       "\n",
       "    .dataframe tbody tr th {\n",
       "        vertical-align: top;\n",
       "    }\n",
       "\n",
       "    .dataframe thead th {\n",
       "        text-align: right;\n",
       "    }\n",
       "</style>\n",
       "<table border=\"1\" class=\"dataframe\">\n",
       "  <thead>\n",
       "    <tr style=\"text-align: right;\">\n",
       "      <th></th>\n",
       "      <th>City</th>\n",
       "      <th>Brand</th>\n",
       "    </tr>\n",
       "  </thead>\n",
       "  <tbody>\n",
       "    <tr>\n",
       "      <th>0</th>\n",
       "      <td>Mumbai</td>\n",
       "      <td>A</td>\n",
       "    </tr>\n",
       "    <tr>\n",
       "      <th>1</th>\n",
       "      <td>Chennai</td>\n",
       "      <td>C</td>\n",
       "    </tr>\n",
       "    <tr>\n",
       "      <th>2</th>\n",
       "      <td>Mumbai</td>\n",
       "      <td>A</td>\n",
       "    </tr>\n",
       "    <tr>\n",
       "      <th>3</th>\n",
       "      <td>Mumbai</td>\n",
       "      <td>C</td>\n",
       "    </tr>\n",
       "    <tr>\n",
       "      <th>4</th>\n",
       "      <td>Chennai</td>\n",
       "      <td>C</td>\n",
       "    </tr>\n",
       "  </tbody>\n",
       "</table>\n",
       "</div>"
      ],
      "text/plain": [
       "      City Brand\n",
       "0   Mumbai     A\n",
       "1  Chennai     C\n",
       "2   Mumbai     A\n",
       "3   Mumbai     C\n",
       "4  Chennai     C"
      ]
     },
     "execution_count": 38,
     "metadata": {},
     "output_type": "execute_result"
    }
   ],
   "source": [
    "df.head()"
   ]
  },
  {
   "cell_type": "code",
   "execution_count": 39,
   "id": "84697b0d",
   "metadata": {},
   "outputs": [
    {
     "data": {
      "text/html": [
       "<div>\n",
       "<style scoped>\n",
       "    .dataframe tbody tr th:only-of-type {\n",
       "        vertical-align: middle;\n",
       "    }\n",
       "\n",
       "    .dataframe tbody tr th {\n",
       "        vertical-align: top;\n",
       "    }\n",
       "\n",
       "    .dataframe thead th {\n",
       "        text-align: right;\n",
       "    }\n",
       "</style>\n",
       "<table border=\"1\" class=\"dataframe\">\n",
       "  <thead>\n",
       "    <tr style=\"text-align: right;\">\n",
       "      <th>Brand</th>\n",
       "      <th>A</th>\n",
       "      <th>B</th>\n",
       "      <th>C</th>\n",
       "      <th>All</th>\n",
       "    </tr>\n",
       "    <tr>\n",
       "      <th>City</th>\n",
       "      <th></th>\n",
       "      <th></th>\n",
       "      <th></th>\n",
       "      <th></th>\n",
       "    </tr>\n",
       "  </thead>\n",
       "  <tbody>\n",
       "    <tr>\n",
       "      <th>Chennai</th>\n",
       "      <td>165</td>\n",
       "      <td>47</td>\n",
       "      <td>191</td>\n",
       "      <td>403</td>\n",
       "    </tr>\n",
       "    <tr>\n",
       "      <th>Mumbai</th>\n",
       "      <td>279</td>\n",
       "      <td>73</td>\n",
       "      <td>225</td>\n",
       "      <td>577</td>\n",
       "    </tr>\n",
       "    <tr>\n",
       "      <th>All</th>\n",
       "      <td>444</td>\n",
       "      <td>120</td>\n",
       "      <td>416</td>\n",
       "      <td>980</td>\n",
       "    </tr>\n",
       "  </tbody>\n",
       "</table>\n",
       "</div>"
      ],
      "text/plain": [
       "Brand      A    B    C  All\n",
       "City                       \n",
       "Chennai  165   47  191  403\n",
       "Mumbai   279   73  225  577\n",
       "All      444  120  416  980"
      ]
     },
     "execution_count": 39,
     "metadata": {},
     "output_type": "execute_result"
    }
   ],
   "source": [
    "# Create the contingency table\n",
    "contingency_Table = pd.crosstab(df.City, df.Brand, margins = True)\n",
    "contingency_Table"
   ]
  },
  {
   "cell_type": "code",
   "execution_count": 40,
   "id": "284f183a",
   "metadata": {},
   "outputs": [
    {
     "data": {
      "text/plain": [
       "City\n",
       "Chennai    165\n",
       "Mumbai     279\n",
       "All        444\n",
       "Name: A, dtype: int64"
      ]
     },
     "execution_count": 40,
     "metadata": {},
     "output_type": "execute_result"
    }
   ],
   "source": [
    "# Find the values of columns A\n",
    "\n",
    "contingency_Table['A']"
   ]
  },
  {
   "cell_type": "code",
   "execution_count": 41,
   "id": "8c88b740",
   "metadata": {},
   "outputs": [
    {
     "data": {
      "text/plain": [
       "165"
      ]
     },
     "execution_count": 41,
     "metadata": {},
     "output_type": "execute_result"
    }
   ],
   "source": [
    "# Find the values of columns A and Row Chennai\n",
    "contingency_Table['A']['Chennai']"
   ]
  },
  {
   "cell_type": "code",
   "execution_count": 42,
   "id": "a58d4b17",
   "metadata": {},
   "outputs": [
    {
     "data": {
      "text/plain": [
       "980"
      ]
     },
     "execution_count": 42,
     "metadata": {},
     "output_type": "execute_result"
    }
   ],
   "source": [
    "# Find the sum\n",
    "contingency_Table['All']['All']"
   ]
  },
  {
   "cell_type": "code",
   "execution_count": 43,
   "id": "674039a8",
   "metadata": {},
   "outputs": [
    {
     "data": {
      "text/html": [
       "<div>\n",
       "<style scoped>\n",
       "    .dataframe tbody tr th:only-of-type {\n",
       "        vertical-align: middle;\n",
       "    }\n",
       "\n",
       "    .dataframe tbody tr th {\n",
       "        vertical-align: top;\n",
       "    }\n",
       "\n",
       "    .dataframe thead th {\n",
       "        text-align: right;\n",
       "    }\n",
       "</style>\n",
       "<table border=\"1\" class=\"dataframe\">\n",
       "  <thead>\n",
       "    <tr style=\"text-align: right;\">\n",
       "      <th>City</th>\n",
       "      <th>Chennai</th>\n",
       "      <th>Mumbai</th>\n",
       "      <th>All</th>\n",
       "    </tr>\n",
       "    <tr>\n",
       "      <th>Brand</th>\n",
       "      <th></th>\n",
       "      <th></th>\n",
       "      <th></th>\n",
       "    </tr>\n",
       "  </thead>\n",
       "  <tbody>\n",
       "    <tr>\n",
       "      <th>A</th>\n",
       "      <td>165</td>\n",
       "      <td>279</td>\n",
       "      <td>444</td>\n",
       "    </tr>\n",
       "    <tr>\n",
       "      <th>B</th>\n",
       "      <td>47</td>\n",
       "      <td>73</td>\n",
       "      <td>120</td>\n",
       "    </tr>\n",
       "    <tr>\n",
       "      <th>C</th>\n",
       "      <td>191</td>\n",
       "      <td>225</td>\n",
       "      <td>416</td>\n",
       "    </tr>\n",
       "    <tr>\n",
       "      <th>All</th>\n",
       "      <td>403</td>\n",
       "      <td>577</td>\n",
       "      <td>980</td>\n",
       "    </tr>\n",
       "  </tbody>\n",
       "</table>\n",
       "</div>"
      ],
      "text/plain": [
       "City   Chennai  Mumbai  All\n",
       "Brand                      \n",
       "A          165     279  444\n",
       "B           47      73  120\n",
       "C          191     225  416\n",
       "All        403     577  980"
      ]
     },
     "execution_count": 43,
     "metadata": {},
     "output_type": "execute_result"
    }
   ],
   "source": [
    "# Transpose\n",
    "\n",
    "contingency_Table.transpose()"
   ]
  },
  {
   "cell_type": "code",
   "execution_count": 44,
   "id": "8ff948aa",
   "metadata": {},
   "outputs": [],
   "source": [
    "cities = list(df['City'].unique())\n",
    "brands = list(df['Brand'].unique())\n",
    "\n",
    "exp1 = {}\n",
    "\n",
    "for i in cities:\n",
    "    exp2 = {}\n",
    "    for j in brands:\n",
    "        exp2[j]= contingency_Table.transpose()[i]['All']*contingency_Table[j]['All'] / (contingency_Table['All']['All'])\n",
    "\n",
    "    exp1[i] = exp2\n",
    "    "
   ]
  },
  {
   "cell_type": "code",
   "execution_count": 45,
   "id": "1127e45f",
   "metadata": {},
   "outputs": [
    {
     "data": {
      "text/plain": [
       "{'Mumbai': {'A': 261.41632653061225,\n",
       "  'C': 244.93061224489796,\n",
       "  'B': 70.65306122448979},\n",
       " 'Chennai': {'A': 182.58367346938775,\n",
       "  'C': 171.06938775510204,\n",
       "  'B': 49.3469387755102}}"
      ]
     },
     "execution_count": 45,
     "metadata": {},
     "output_type": "execute_result"
    }
   ],
   "source": [
    "exp1"
   ]
  },
  {
   "cell_type": "code",
   "execution_count": 46,
   "id": "8e6b5d42",
   "metadata": {},
   "outputs": [],
   "source": [
    "# chi square calculation\n",
    "\n",
    "chiSquareCal = 0\n",
    "for i in cities:\n",
    "    for j in brands:\n",
    "        val = (contingency_Table.transpose()[i][j]-exp1[i][j]**2/exp1[i][j])\n",
    "        chiSquareCal = chiSquareCal + val\n",
    "        "
   ]
  },
  {
   "cell_type": "code",
   "execution_count": 47,
   "id": "a6a928f0",
   "metadata": {},
   "outputs": [
    {
     "data": {
      "text/plain": [
       "7.105427357601002e-15"
      ]
     },
     "execution_count": 47,
     "metadata": {},
     "output_type": "execute_result"
    }
   ],
   "source": [
    "chiSquareCal"
   ]
  },
  {
   "cell_type": "code",
   "execution_count": 48,
   "id": "be0c6921",
   "metadata": {},
   "outputs": [],
   "source": [
    "# Degree of Freedom\n",
    "dof = (len(cities)- 1) * (len(brands)-1)"
   ]
  },
  {
   "cell_type": "code",
   "execution_count": 49,
   "id": "6d54c6eb",
   "metadata": {},
   "outputs": [
    {
     "data": {
      "text/plain": [
       "2"
      ]
     },
     "execution_count": 49,
     "metadata": {},
     "output_type": "execute_result"
    }
   ],
   "source": [
    "dof"
   ]
  },
  {
   "cell_type": "code",
   "execution_count": 50,
   "id": "81e60ddf",
   "metadata": {},
   "outputs": [
    {
     "data": {
      "text/plain": [
       "5.991464547107979"
      ]
     },
     "execution_count": 50,
     "metadata": {},
     "output_type": "execute_result"
    }
   ],
   "source": [
    "stats.chi2.ppf(1-0.05, df=dof)"
   ]
  },
  {
   "cell_type": "code",
   "execution_count": 51,
   "id": "59ee67e7",
   "metadata": {},
   "outputs": [],
   "source": [
    "# SHORTCUT TO CHI SQUARE TEST\n",
    "\n",
    "contin_Tab = np.array([contingency_Table.transpose()['Chennai'][0:3].values,\n",
    "                      contingency_Table.transpose()['Mumbai'][0:3].values])"
   ]
  },
  {
   "cell_type": "code",
   "execution_count": 52,
   "id": "de95ad5c",
   "metadata": {},
   "outputs": [
    {
     "data": {
      "text/plain": [
       "array([[165,  47, 191],\n",
       "       [279,  73, 225]], dtype=int64)"
      ]
     },
     "execution_count": 52,
     "metadata": {},
     "output_type": "execute_result"
    }
   ],
   "source": [
    "contin_Tab"
   ]
  },
  {
   "cell_type": "code",
   "execution_count": 53,
   "id": "cae8da06",
   "metadata": {},
   "outputs": [
    {
     "data": {
      "text/plain": [
       "(7.009543616823934,\n",
       " 0.03005363054744611,\n",
       " 2,\n",
       " array([[182.58367347,  49.34693878, 171.06938776],\n",
       "        [261.41632653,  70.65306122, 244.93061224]]))"
      ]
     },
     "execution_count": 53,
     "metadata": {},
     "output_type": "execute_result"
    }
   ],
   "source": [
    "stats.chi2_contingency(contin_Tab)"
   ]
  },
  {
   "cell_type": "code",
   "execution_count": 54,
   "id": "937df8db",
   "metadata": {},
   "outputs": [
    {
     "data": {
      "text/plain": [
       "0.9999999999999964"
      ]
     },
     "execution_count": 54,
     "metadata": {},
     "output_type": "execute_result"
    }
   ],
   "source": [
    "# Pvalue\n",
    "1 - stats.chi2.cdf(chiSquareCal, dof)"
   ]
  },
  {
   "cell_type": "code",
   "execution_count": null,
   "id": "4512bd59",
   "metadata": {},
   "outputs": [],
   "source": []
  },
  {
   "cell_type": "code",
   "execution_count": null,
   "id": "05b3794f",
   "metadata": {},
   "outputs": [],
   "source": []
  }
 ],
 "metadata": {
  "kernelspec": {
   "display_name": "Python 3 (ipykernel)",
   "language": "python",
   "name": "python3"
  },
  "language_info": {
   "codemirror_mode": {
    "name": "ipython",
    "version": 3
   },
   "file_extension": ".py",
   "mimetype": "text/x-python",
   "name": "python",
   "nbconvert_exporter": "python",
   "pygments_lexer": "ipython3",
   "version": "3.9.7"
  }
 },
 "nbformat": 4,
 "nbformat_minor": 5
}
