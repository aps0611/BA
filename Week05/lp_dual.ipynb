{
  "nbformat": 4,
  "nbformat_minor": 0,
  "metadata": {
    "colab": {
      "name": "lp-dual.ipynb",
      "provenance": [],
      "collapsed_sections": []
    },
    "kernelspec": {
      "name": "python3",
      "display_name": "Python 3"
    },
    "language_info": {
      "name": "python"
    }
  },
  "cells": [
    {
      "cell_type": "code",
      "execution_count": 1,
      "metadata": {
        "colab": {
          "base_uri": "https://localhost:8080/"
        },
        "id": "Ai9JlbQWRiEv",
        "outputId": "094f2e07-d930-4c22-fef0-bc0a707077d3"
      },
      "outputs": [
        {
          "output_type": "stream",
          "name": "stdout",
          "text": [
            "Collecting pulp\n",
            "  Downloading PuLP-2.6.0-py3-none-any.whl (14.2 MB)\n",
            "\u001b[K     |████████████████████████████████| 14.2 MB 5.4 MB/s \n",
            "\u001b[?25hInstalling collected packages: pulp\n",
            "Successfully installed pulp-2.6.0\n"
          ]
        }
      ],
      "source": [
        "!pip install pulp"
      ]
    },
    {
      "cell_type": "code",
      "source": [
        "import pulp as p"
      ],
      "metadata": {
        "id": "4mTfbhKvRv9k"
      },
      "execution_count": 2,
      "outputs": []
    },
    {
      "cell_type": "markdown",
      "source": [
        "**Dual**"
      ],
      "metadata": {
        "id": "Gq5SgDGCQADc"
      }
    },
    {
      "cell_type": "code",
      "source": [
        "dual = p.LpProblem('Dual',p.LpMinimize)"
      ],
      "metadata": {
        "id": "KBvPmRB8P1Wk"
      },
      "execution_count": 3,
      "outputs": []
    },
    {
      "cell_type": "code",
      "source": [
        "y1 = p.LpVariable(\"y1\",lowBound=0)\n",
        "y2 = p.LpVariable(\"y2\",lowBound=0)"
      ],
      "metadata": {
        "id": "OHDZQf3hQKwR"
      },
      "execution_count": 4,
      "outputs": []
    },
    {
      "cell_type": "code",
      "source": [
        "dual += 120000*y1 + 140000*y2"
      ],
      "metadata": {
        "id": "2iFSKDDYQQ6x"
      },
      "execution_count": 5,
      "outputs": []
    },
    {
      "cell_type": "code",
      "source": [
        "dual += 15*y1 + 20*y2 >= 500000\n",
        "dual += 20*y1 + 50*y2 >= 1000000\n",
        "dual += 60*y1 + 100*y2 >= 2500000"
      ],
      "metadata": {
        "id": "ifafTrQUQbLS"
      },
      "execution_count": 6,
      "outputs": []
    },
    {
      "cell_type": "code",
      "source": [
        "print(dual)"
      ],
      "metadata": {
        "colab": {
          "base_uri": "https://localhost:8080/"
        },
        "id": "cg3bUB1CQ9DE",
        "outputId": "549420c0-45aa-4b21-f056-5a3d5a5576ca"
      },
      "execution_count": 7,
      "outputs": [
        {
          "output_type": "stream",
          "name": "stdout",
          "text": [
            "Dual:\n",
            "MINIMIZE\n",
            "120000*y1 + 140000*y2 + 0\n",
            "SUBJECT TO\n",
            "_C1: 15 y1 + 20 y2 >= 500000\n",
            "\n",
            "_C2: 20 y1 + 50 y2 >= 1000000\n",
            "\n",
            "_C3: 60 y1 + 100 y2 >= 2500000\n",
            "\n",
            "VARIABLES\n",
            "y1 Continuous\n",
            "y2 Continuous\n",
            "\n"
          ]
        }
      ]
    },
    {
      "cell_type": "code",
      "source": [
        "solutionD = dual.solve()\n",
        "print(p.LpStatus[solutionD])"
      ],
      "metadata": {
        "colab": {
          "base_uri": "https://localhost:8080/"
        },
        "id": "l6WQACpEQ_g5",
        "outputId": "58c2b536-650e-4b54-8a5c-a12949b24ea7"
      },
      "execution_count": 8,
      "outputs": [
        {
          "output_type": "stream",
          "name": "stdout",
          "text": [
            "Optimal\n"
          ]
        }
      ]
    },
    {
      "cell_type": "code",
      "source": [
        "print(p.value(y1),p.value(y2),p.value(dual.objective))"
      ],
      "metadata": {
        "colab": {
          "base_uri": "https://localhost:8080/"
        },
        "id": "4kflrjUqRE40",
        "outputId": "92d5dca7-66bb-490f-c475-8a892426194e"
      },
      "execution_count": 9,
      "outputs": [
        {
          "output_type": "stream",
          "name": "stdout",
          "text": [
            "0.0 25000.0 3500000000.0\n"
          ]
        }
      ]
    },
    {
      "cell_type": "code",
      "source": [
        ""
      ],
      "metadata": {
        "id": "eYXUlJUqRLm3"
      },
      "execution_count": null,
      "outputs": []
    }
  ]
}