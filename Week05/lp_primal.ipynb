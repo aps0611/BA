{
  "nbformat": 4,
  "nbformat_minor": 0,
  "metadata": {
    "colab": {
      "name": "lp-primal.ipynb",
      "provenance": [],
      "collapsed_sections": []
    },
    "kernelspec": {
      "name": "python3",
      "display_name": "Python 3"
    },
    "language_info": {
      "name": "python"
    }
  },
  "cells": [
    {
      "cell_type": "code",
      "execution_count": 1,
      "metadata": {
        "colab": {
          "base_uri": "https://localhost:8080/"
        },
        "id": "4HxWiXAnOKp8",
        "outputId": "0a8fcd90-9e00-4326-b364-2a3fc31fb656"
      },
      "outputs": [
        {
          "output_type": "stream",
          "name": "stdout",
          "text": [
            "Collecting pulp\n",
            "  Downloading PuLP-2.6.0-py3-none-any.whl (14.2 MB)\n",
            "\u001b[K     |████████████████████████████████| 14.2 MB 8.0 MB/s \n",
            "\u001b[?25hInstalling collected packages: pulp\n",
            "Successfully installed pulp-2.6.0\n"
          ]
        }
      ],
      "source": [
        "!pip install pulp"
      ]
    },
    {
      "cell_type": "markdown",
      "source": [
        "**Primal**"
      ],
      "metadata": {
        "id": "wo1OYpEdP8Nm"
      }
    },
    {
      "cell_type": "code",
      "source": [
        "import pulp as p"
      ],
      "metadata": {
        "id": "2hH2KI9kOP3o"
      },
      "execution_count": 2,
      "outputs": []
    },
    {
      "cell_type": "code",
      "source": [
        "primal = p.LpProblem('Primal',p.LpMaximize)"
      ],
      "metadata": {
        "id": "4piGe8bLOVXf"
      },
      "execution_count": 3,
      "outputs": []
    },
    {
      "cell_type": "code",
      "source": [
        "x1 = p.LpVariable(\"x1\",lowBound=0)\n",
        "x2 = p.LpVariable(\"x2\",lowBound=0)\n",
        "x3 = p.LpVariable(\"x3\",lowBound=0)"
      ],
      "metadata": {
        "id": "_T_pePuwOY2g"
      },
      "execution_count": 4,
      "outputs": []
    },
    {
      "cell_type": "code",
      "source": [
        "primal += 500000*x1 + 1000000*x2 + 2500000*x3"
      ],
      "metadata": {
        "id": "f7v7WvFdOyAl"
      },
      "execution_count": 5,
      "outputs": []
    },
    {
      "cell_type": "code",
      "source": [
        "primal += 15*x1 + 20*x2 + 60*x3 <= 120000\n",
        "primal += 20*x1 + 50*x2 + 100*x3 <= 140000"
      ],
      "metadata": {
        "id": "qUSh7q5KPB0y"
      },
      "execution_count": 6,
      "outputs": []
    },
    {
      "cell_type": "code",
      "source": [
        "print(primal)"
      ],
      "metadata": {
        "colab": {
          "base_uri": "https://localhost:8080/"
        },
        "id": "21ivURF5PZX2",
        "outputId": "38f410bc-9520-4ee4-c6ac-0d3396590e6a"
      },
      "execution_count": 7,
      "outputs": [
        {
          "output_type": "stream",
          "name": "stdout",
          "text": [
            "Primal:\n",
            "MAXIMIZE\n",
            "500000*x1 + 1000000*x2 + 2500000*x3 + 0\n",
            "SUBJECT TO\n",
            "_C1: 15 x1 + 20 x2 + 60 x3 <= 120000\n",
            "\n",
            "_C2: 20 x1 + 50 x2 + 100 x3 <= 140000\n",
            "\n",
            "VARIABLES\n",
            "x1 Continuous\n",
            "x2 Continuous\n",
            "x3 Continuous\n",
            "\n"
          ]
        }
      ]
    },
    {
      "cell_type": "code",
      "source": [
        "solution = primal.solve()\n",
        "print(p.LpStatus[solution])"
      ],
      "metadata": {
        "colab": {
          "base_uri": "https://localhost:8080/"
        },
        "id": "gbjt-Gd9Pcj1",
        "outputId": "29fbf096-8f81-42c3-b9e5-eb1539af3eec"
      },
      "execution_count": 8,
      "outputs": [
        {
          "output_type": "stream",
          "name": "stdout",
          "text": [
            "Optimal\n"
          ]
        }
      ]
    },
    {
      "cell_type": "code",
      "source": [
        "print(p.value(x1),p.value(x2),p.value(x3),p.value(primal.objective))"
      ],
      "metadata": {
        "colab": {
          "base_uri": "https://localhost:8080/"
        },
        "id": "XCk3ZkVVPtjU",
        "outputId": "2adae3c8-1947-4be6-e6a1-b3a2137a1d3b"
      },
      "execution_count": 9,
      "outputs": [
        {
          "output_type": "stream",
          "name": "stdout",
          "text": [
            "0.0 0.0 1400.0 3500000000.0\n"
          ]
        }
      ]
    },
    {
      "cell_type": "code",
      "source": [
        ""
      ],
      "metadata": {
        "id": "utMPcR9GHInr"
      },
      "execution_count": null,
      "outputs": []
    }
  ]
}