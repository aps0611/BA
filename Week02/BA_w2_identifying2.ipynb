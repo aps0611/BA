{
  "nbformat": 4,
  "nbformat_minor": 0,
  "metadata": {
    "colab": {
      "provenance": []
    },
    "kernelspec": {
      "name": "python3",
      "display_name": "Python 3"
    },
    "language_info": {
      "name": "python"
    }
  },
  "cells": [
    {
      "cell_type": "code",
      "execution_count": 1,
      "metadata": {
        "id": "mjj6Nfdt29K4"
      },
      "outputs": [],
      "source": [
        "# import the libraries\n",
        "\n",
        "import numpy as np\n",
        "import matplotlib.pyplot as plt\n",
        "import pandas as pd\n",
        "%matplotlib inline"
      ]
    },
    {
      "cell_type": "code",
      "source": [
        "# Read the data:\n",
        "\n",
        "df = pd.read_csv('sheet2.csv',sep = ',')\n",
        "print(df)"
      ],
      "metadata": {
        "colab": {
          "base_uri": "https://localhost:8080/"
        },
        "id": "AJ7CH8sf3XrD",
        "outputId": "2cbf8b5b-0fad-42fb-9a44-fdf1edbba392"
      },
      "execution_count": 2,
      "outputs": [
        {
          "output_type": "stream",
          "name": "stdout",
          "text": [
            "          obs\n",
            "0   54.507318\n",
            "1   52.183131\n",
            "2   59.587585\n",
            "3   52.951728\n",
            "4   53.302821\n",
            "5   54.383157\n",
            "6   55.394090\n",
            "7   59.637172\n",
            "8   53.811463\n",
            "9   52.035259\n",
            "10  53.763910\n",
            "11  59.488890\n",
            "12  56.798223\n",
            "13  55.727858\n",
            "14  54.434550\n",
            "15  55.162684\n",
            "16  51.287706\n",
            "17  54.884016\n",
            "18  50.340227\n",
            "19  51.009715\n",
            "20  53.006514\n",
            "21  52.653531\n",
            "22  56.323987\n",
            "23  51.467548\n",
            "24  56.900738\n",
            "25  58.482138\n",
            "26  57.659965\n",
            "27  57.974599\n",
            "28  52.115398\n",
            "29  55.079462\n",
            "30  50.647267\n",
            "31  59.547734\n",
            "32  53.077537\n",
            "33  53.323793\n",
            "34  59.695597\n",
            "35  55.575524\n",
            "36  51.640132\n",
            "37  58.677772\n",
            "38  56.789595\n",
            "39  56.842751\n",
            "40  52.427073\n",
            "41  54.723054\n",
            "42  55.294794\n",
            "43  57.131708\n",
            "44  55.607499\n",
            "45  53.664759\n",
            "46  57.620416\n",
            "47  55.473823\n",
            "48  55.249491\n",
            "49  50.888293\n"
          ]
        }
      ]
    },
    {
      "cell_type": "code",
      "source": [
        "# plot the histogram\n",
        "\n",
        "plt.hist(df['obs'])\n",
        "plt.show()"
      ],
      "metadata": {
        "colab": {
          "base_uri": "https://localhost:8080/",
          "height": 265
        },
        "id": "MOX5TDu83fni",
        "outputId": "20de787a-d98f-49d3-dabd-289559833f8d"
      },
      "execution_count": 3,
      "outputs": [
        {
          "output_type": "display_data",
          "data": {
            "text/plain": [
              "<Figure size 432x288 with 1 Axes>"
            ],
            "image/png": "[encoded data removed]"
          },
          "metadata": {
            "needs_background": "light"
          }
        }
      ]
    },
    {
      "cell_type": "code",
      "source": [
        "# observations:\n",
        "\n",
        "'''\n",
        "The histogram shows one peak and peak on other sides but shows no exact symmetric nature or step wise decrease\n",
        "Its non-gaussian\n",
        "somewhat symmetric\n",
        "'''"
      ],
      "metadata": {
        "colab": {
          "base_uri": "https://localhost:8080/",
          "height": 53
        },
        "id": "kgzAZ-xn3pp_",
        "outputId": "d6f7fe20-81f0-481b-dce7-4bdf296c8fdc"
      },
      "execution_count": 4,
      "outputs": [
        {
          "output_type": "execute_result",
          "data": {
            "text/plain": [
              "'\\nThe histogram shows one peak and peak on other sides but shows no exact symmetric nature or step wise decrease\\nIts non-gaussian\\nsomewhat symmetric\\n'"
            ],
            "application/vnd.google.colaboratory.intrinsic+json": {
              "type": "string"
            }
          },
          "metadata": {},
          "execution_count": 4
        }
      ]
    },
    {
      "cell_type": "code",
      "source": [
        "# lets see the Descriptive statistics\n",
        "\n",
        "df.describe()"
      ],
      "metadata": {
        "colab": {
          "base_uri": "https://localhost:8080/",
          "height": 300
        },
        "id": "2EbXQ3eq38QA",
        "outputId": "55231994-a6c9-4b41-ffee-d572e25df719"
      },
      "execution_count": 5,
      "outputs": [
        {
          "output_type": "execute_result",
          "data": {
            "text/plain": [
              "             obs\n",
              "count  50.000000\n",
              "mean   54.925080\n",
              "std     2.659768\n",
              "min    50.340227\n",
              "25%    52.965425\n",
              "50%    54.981739\n",
              "75%    56.831619\n",
              "max    59.695597"
            ],
            "text/html": [
              "\n",
              "  <div id=\"df-9accd0d6-afdf-467c-8966-bffa46b40072\">\n",
              "    <div class=\"colab-df-container\">\n",
              "      <div>\n",
              "<style scoped>\n",
              "    .dataframe tbody tr th:only-of-type {\n",
              "        vertical-align: middle;\n",
              "    }\n",
              "\n",
              "    .dataframe tbody tr th {\n",
              "        vertical-align: top;\n",
              "    }\n",
              "\n",
              "    .dataframe thead th {\n",
              "        text-align: right;\n",
              "    }\n",
              "</style>\n",
              "<table border=\"1\" class=\"dataframe\">\n",
              "  <thead>\n",
              "    <tr style=\"text-align: right;\">\n",
              "      <th></th>\n",
              "      <th>obs</th>\n",
              "    </tr>\n",
              "  </thead>\n",
              "  <tbody>\n",
              "    <tr>\n",
              "      <th>count</th>\n",
              "      <td>50.000000</td>\n",
              "    </tr>\n",
              "    <tr>\n",
              "      <th>mean</th>\n",
              "      <td>54.925080</td>\n",
              "    </tr>\n",
              "    <tr>\n",
              "      <th>std</th>\n",
              "      <td>2.659768</td>\n",
              "    </tr>\n",
              "    <tr>\n",
              "      <th>min</th>\n",
              "      <td>50.340227</td>\n",
              "    </tr>\n",
              "    <tr>\n",
              "      <th>25%</th>\n",
              "      <td>52.965425</td>\n",
              "    </tr>\n",
              "    <tr>\n",
              "      <th>50%</th>\n",
              "      <td>54.981739</td>\n",
              "    </tr>\n",
              "    <tr>\n",
              "      <th>75%</th>\n",
              "      <td>56.831619</td>\n",
              "    </tr>\n",
              "    <tr>\n",
              "      <th>max</th>\n",
              "      <td>59.695597</td>\n",
              "    </tr>\n",
              "  </tbody>\n",
              "</table>\n",
              "</div>\n",
              "      <button class=\"colab-df-convert\" onclick=\"convertToInteractive('df-9accd0d6-afdf-467c-8966-bffa46b40072')\"\n",
              "              title=\"Convert this dataframe to an interactive table.\"\n",
              "              style=\"display:none;\">\n",
              "        \n",
              "  <svg xmlns=\"http://www.w3.org/2000/svg\" height=\"24px\"viewBox=\"0 0 24 24\"\n",
              "       width=\"24px\">\n",
              "    <path d=\"M0 0h24v24H0V0z\" fill=\"none\"/>\n",
              "    <path d=\"M18.56 5.44l.94 2.06.94-2.06 2.06-.94-2.06-.94-.94-2.06-.94 2.06-2.06.94zm-11 1L8.5 8.5l.94-2.06 2.06-.94-2.06-.94L8.5 2.5l-.94 2.06-2.06.94zm10 10l.94 2.06.94-2.06 2.06-.94-2.06-.94-.94-2.06-.94 2.06-2.06.94z\"/><path d=\"M17.41 7.96l-1.37-1.37c-.4-.4-.92-.59-1.43-.59-.52 0-1.04.2-1.43.59L10.3 9.45l-7.72 7.72c-.78.78-.78 2.05 0 2.83L4 21.41c.39.39.9.59 1.41.59.51 0 1.02-.2 1.41-.59l7.78-7.78 2.81-2.81c.8-.78.8-2.07 0-2.86zM5.41 20L4 18.59l7.72-7.72 1.47 1.35L5.41 20z\"/>\n",
              "  </svg>\n",
              "      </button>\n",
              "      \n",
              "  <style>\n",
              "    .colab-df-container {\n",
              "      display:flex;\n",
              "      flex-wrap:wrap;\n",
              "      gap: 12px;\n",
              "    }\n",
              "\n",
              "    .colab-df-convert {\n",
              "      background-color: #E8F0FE;\n",
              "      border: none;\n",
              "      border-radius: 50%;\n",
              "      cursor: pointer;\n",
              "      display: none;\n",
              "      fill: #1967D2;\n",
              "      height: 32px;\n",
              "      padding: 0 0 0 0;\n",
              "      width: 32px;\n",
              "    }\n",
              "\n",
              "    .colab-df-convert:hover {\n",
              "      background-color: #E2EBFA;\n",
              "      box-shadow: 0px 1px 2px rgba(60, 64, 67, 0.3), 0px 1px 3px 1px rgba(60, 64, 67, 0.15);\n",
              "      fill: #174EA6;\n",
              "    }\n",
              "\n",
              "    [theme=dark] .colab-df-convert {\n",
              "      background-color: #3B4455;\n",
              "      fill: #D2E3FC;\n",
              "    }\n",
              "\n",
              "    [theme=dark] .colab-df-convert:hover {\n",
              "      background-color: #434B5C;\n",
              "      box-shadow: 0px 1px 3px 1px rgba(0, 0, 0, 0.15);\n",
              "      filter: drop-shadow(0px 1px 2px rgba(0, 0, 0, 0.3));\n",
              "      fill: #FFFFFF;\n",
              "    }\n",
              "  </style>\n",
              "\n",
              "      <script>\n",
              "        const buttonEl =\n",
              "          document.querySelector('#df-9accd0d6-afdf-467c-8966-bffa46b40072 button.colab-df-convert');\n",
              "        buttonEl.style.display =\n",
              "          google.colab.kernel.accessAllowed ? 'block' : 'none';\n",
              "\n",
              "        async function convertToInteractive(key) {\n",
              "          const element = document.querySelector('#df-9accd0d6-afdf-467c-8966-bffa46b40072');\n",
              "          const dataTable =\n",
              "            await google.colab.kernel.invokeFunction('convertToInteractive',\n",
              "                                                     [key], {});\n",
              "          if (!dataTable) return;\n",
              "\n",
              "          const docLinkHtml = 'Like what you see? Visit the ' +\n",
              "            '<a target=\"_blank\" href=https://colab.research.google.com/notebooks/data_table.ipynb>data table notebook</a>'\n",
              "            + ' to learn more about interactive tables.';\n",
              "          element.innerHTML = '';\n",
              "          dataTable['output_type'] = 'display_data';\n",
              "          await google.colab.output.renderOutput(dataTable, element);\n",
              "          const docLink = document.createElement('div');\n",
              "          docLink.innerHTML = docLinkHtml;\n",
              "          element.appendChild(docLink);\n",
              "        }\n",
              "      </script>\n",
              "    </div>\n",
              "  </div>\n",
              "  "
            ]
          },
          "metadata": {},
          "execution_count": 5
        }
      ]
    },
    {
      "cell_type": "code",
      "source": [
        "stats_labels = ['Mean_Observed', 'Variance_observed', 'skew_observed', 'kurt_observed']\n",
        "stats_values = [round(df['obs'].mean(),2), round(df['obs'].var(),2), round(df['obs'].skew(),2),round(df['obs'].kurt(),2)]\n",
        "print(set(zip(stats_labels, stats_values)))"
      ],
      "metadata": {
        "colab": {
          "base_uri": "https://localhost:8080/"
        },
        "id": "YkAZ3QFM4Bs4",
        "outputId": "4d9ce78b-f7b6-46cc-a6ed-72d767af683b"
      },
      "execution_count": 6,
      "outputs": [
        {
          "output_type": "stream",
          "name": "stdout",
          "text": [
            "{('Mean_Observed', 54.93), ('Variance_observed', 7.07), ('kurt_observed', -0.87), ('skew_observed', 0.18)}\n"
          ]
        }
      ]
    },
    {
      "cell_type": "code",
      "source": [
        "df.median()"
      ],
      "metadata": {
        "colab": {
          "base_uri": "https://localhost:8080/"
        },
        "id": "wEXAclTW4Uht",
        "outputId": "25cd73ed-120d-4526-8df6-3464a8125ffa"
      },
      "execution_count": 7,
      "outputs": [
        {
          "output_type": "execute_result",
          "data": {
            "text/plain": [
              "obs    54.981739\n",
              "dtype: float64"
            ]
          },
          "metadata": {},
          "execution_count": 7
        }
      ]
    },
    {
      "cell_type": "code",
      "source": [
        "# Observations:\n",
        "\n",
        "'''\n",
        "The mean and median are almost close to each other. \n",
        "min and max range from 50-59\n",
        "Looks like a normal distribution\n",
        "Also the bins of range 2\n",
        "variance is very small\n",
        "From these statistics we can say its almost uniform\n",
        "\n",
        "Based on kurtosis: -0.87. For normal the kurtosis is around 3 and less than 3 cant be normal\n",
        "Reinforces the judgement that its not a Normal\n",
        "skewness:  0.18 Very low. Not skewed to either side its centered\n",
        "Looking at split accross quantiles> mean of 55\n",
        "\n",
        "So looks like uniform from 50 and 60\n",
        "\n",
        "'''"
      ],
      "metadata": {
        "colab": {
          "base_uri": "https://localhost:8080/",
          "height": 105
        },
        "id": "z7HVEvKn4Oir",
        "outputId": "03a64d90-4afe-4df4-e16f-1e8f116c15d2"
      },
      "execution_count": 8,
      "outputs": [
        {
          "output_type": "execute_result",
          "data": {
            "text/plain": [
              "'\\nThe mean and median are almost close to each other. \\nmin and max range from 50-59\\nLooks like a normal distribution\\nAlso the bins of range 2\\nvariance is very small\\nFrom these statistics we can say its almost uniform\\n\\nBased on kurtosis: -0.87. For normal the kurtosis is around 3 and less than 3 cant be normal\\nReinforces the judgement that its not a Normal\\nskewness:  0.18 Very low. Not skewed to either side its centered\\nLooking at split accross quantiles> mean of 55\\n\\nSo looks like uniform from 50 and 60\\n\\n'"
            ],
            "application/vnd.google.colaboratory.intrinsic+json": {
              "type": "string"
            }
          },
          "metadata": {},
          "execution_count": 8
        }
      ]
    },
    {
      "cell_type": "code",
      "source": [
        "# lets plot the q-q plot:\n",
        "\n",
        "import statsmodels.api as sm\n",
        "import scipy.stats as stats\n",
        "from scipy.stats import norm, uniform, poisson\n",
        "from statsmodels.graphics.gofplots import qqplot"
      ],
      "metadata": {
        "id": "jWX9IqnN5bqt"
      },
      "execution_count": 10,
      "outputs": []
    },
    {
      "cell_type": "code",
      "source": [
        "sm.qqplot(df['obs'], stats.uniform, fit = True, line = '45')\n",
        "plt.show()"
      ],
      "metadata": {
        "colab": {
          "base_uri": "https://localhost:8080/",
          "height": 279
        },
        "id": "6mDHgKRp5iuf",
        "outputId": "a774e04e-52e7-40c9-fe54-2987516d6d6b"
      },
      "execution_count": 11,
      "outputs": [
        {
          "output_type": "display_data",
          "data": {
            "text/plain": [
              "<Figure size 432x288 with 1 Axes>"
            ],
            "image/png": "[encoded data removed]"
          },
          "metadata": {
            "needs_background": "light"
          }
        }
      ]
    },
    {
      "cell_type": "code",
      "source": [
        "# lets plot the p-p plot:\n",
        "\n",
        "import scipy.stats as stats\n",
        "stats.probplot(df['obs'], dist = 'uniform', plot = plt)\n",
        "plt.show()"
      ],
      "metadata": {
        "colab": {
          "base_uri": "https://localhost:8080/",
          "height": 295
        },
        "id": "AZcJAMck6GnF",
        "outputId": "a786f1d3-16ad-479d-9639-29aebf71ed6f"
      },
      "execution_count": 12,
      "outputs": [
        {
          "output_type": "display_data",
          "data": {
            "text/plain": [
              "<Figure size 432x288 with 1 Axes>"
            ],
            "image/png": "[encoded data removed]"
          },
          "metadata": {
            "needs_background": "light"
          }
        }
      ]
    },
    {
      "cell_type": "code",
      "source": [
        "# Null Hypothesis: Given data follows uniform distribution\n",
        "# Alternate Hypothesis: Given data doesn't follow uniform distribution"
      ],
      "metadata": {
        "id": "Vy3GuBk-6dhV"
      },
      "execution_count": 13,
      "outputs": []
    },
    {
      "cell_type": "code",
      "source": [
        "# Create a new colum of exp freq:\n",
        "\n",
        "df['expected'] = df['obs'].mean()\n",
        "print(df)"
      ],
      "metadata": {
        "colab": {
          "base_uri": "https://localhost:8080/"
        },
        "id": "BbMi6FlZ6tEO",
        "outputId": "364d32c9-2438-47b1-9341-ad44001c6b6a"
      },
      "execution_count": 15,
      "outputs": [
        {
          "output_type": "stream",
          "name": "stdout",
          "text": [
            "          obs  expected\n",
            "0   54.507318  54.92508\n",
            "1   52.183131  54.92508\n",
            "2   59.587585  54.92508\n",
            "3   52.951728  54.92508\n",
            "4   53.302821  54.92508\n",
            "5   54.383157  54.92508\n",
            "6   55.394090  54.92508\n",
            "7   59.637172  54.92508\n",
            "8   53.811463  54.92508\n",
            "9   52.035259  54.92508\n",
            "10  53.763910  54.92508\n",
            "11  59.488890  54.92508\n",
            "12  56.798223  54.92508\n",
            "13  55.727858  54.92508\n",
            "14  54.434550  54.92508\n",
            "15  55.162684  54.92508\n",
            "16  51.287706  54.92508\n",
            "17  54.884016  54.92508\n",
            "18  50.340227  54.92508\n",
            "19  51.009715  54.92508\n",
            "20  53.006514  54.92508\n",
            "21  52.653531  54.92508\n",
            "22  56.323987  54.92508\n",
            "23  51.467548  54.92508\n",
            "24  56.900738  54.92508\n",
            "25  58.482138  54.92508\n",
            "26  57.659965  54.92508\n",
            "27  57.974599  54.92508\n",
            "28  52.115398  54.92508\n",
            "29  55.079462  54.92508\n",
            "30  50.647267  54.92508\n",
            "31  59.547734  54.92508\n",
            "32  53.077537  54.92508\n",
            "33  53.323793  54.92508\n",
            "34  59.695597  54.92508\n",
            "35  55.575524  54.92508\n",
            "36  51.640132  54.92508\n",
            "37  58.677772  54.92508\n",
            "38  56.789595  54.92508\n",
            "39  56.842751  54.92508\n",
            "40  52.427073  54.92508\n",
            "41  54.723054  54.92508\n",
            "42  55.294794  54.92508\n",
            "43  57.131708  54.92508\n",
            "44  55.607499  54.92508\n",
            "45  53.664759  54.92508\n",
            "46  57.620416  54.92508\n",
            "47  55.473823  54.92508\n",
            "48  55.249491  54.92508\n",
            "49  50.888293  54.92508\n"
          ]
        }
      ]
    },
    {
      "cell_type": "code",
      "source": [
        "# import chi\n",
        "\n",
        "from scipy.stats import chisquare"
      ],
      "metadata": {
        "id": "Ac0OCwqA63DG"
      },
      "execution_count": 16,
      "outputs": []
    },
    {
      "cell_type": "code",
      "source": [
        "chisquare(df['obs'],df['expected'])"
      ],
      "metadata": {
        "colab": {
          "base_uri": "https://localhost:8080/"
        },
        "id": "M2ABrQ-c7BTV",
        "outputId": "ca2363b6-f912-43d7-c2df-bdebb58c531f"
      },
      "execution_count": 17,
      "outputs": [
        {
          "output_type": "execute_result",
          "data": {
            "text/plain": [
              "Power_divergenceResult(statistic=6.311215146097782, pvalue=0.9999999999999735)"
            ]
          },
          "metadata": {},
          "execution_count": 17
        }
      ]
    },
    {
      "cell_type": "code",
      "source": [
        "# pvalue is huge and infact suggest that null hypothesis is not rejected"
      ],
      "metadata": {
        "id": "kI-bPyBB7FEv"
      },
      "execution_count": 18,
      "outputs": []
    },
    {
      "cell_type": "code",
      "source": [
        "# p for uniform distribution is zero\n",
        "# thus dof = k-p-1 = 50-1 = 49\n",
        "# confidence interval of 0.95\n",
        "# alpha = 0.05\n",
        "\n",
        "# calculate the tabulated chi2 value\n",
        "from scipy.stats import chi2\n",
        "chi2.ppf(0.95, 49)"
      ],
      "metadata": {
        "colab": {
          "base_uri": "https://localhost:8080/"
        },
        "id": "_b4_i9NP7PM1",
        "outputId": "312bd7d0-f04a-44db-b045-3d4e476c529c"
      },
      "execution_count": 19,
      "outputs": [
        {
          "output_type": "execute_result",
          "data": {
            "text/plain": [
              "66.3386488629688"
            ]
          },
          "metadata": {},
          "execution_count": 19
        }
      ]
    },
    {
      "cell_type": "code",
      "source": [
        "#tabulated value(66.33) > computed value(6.31)\n",
        "# we do not reject the null "
      ],
      "metadata": {
        "id": "P8diWN0J74-W"
      },
      "execution_count": 20,
      "outputs": []
    },
    {
      "cell_type": "code",
      "source": [],
      "metadata": {
        "id": "9WhZkYgr8Cuj"
      },
      "execution_count": null,
      "outputs": []
    }
  ]
}