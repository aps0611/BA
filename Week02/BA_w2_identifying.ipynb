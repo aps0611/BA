{
  "nbformat": 4,
  "nbformat_minor": 0,
  "metadata": {
    "colab": {
      "provenance": []
    },
    "kernelspec": {
      "name": "python3",
      "display_name": "Python 3"
    },
    "language_info": {
      "name": "python"
    }
  },
  "cells": [
    {
      "cell_type": "code",
      "execution_count": 29,
      "metadata": {
        "id": "I4pLcyA7MR-E"
      },
      "outputs": [],
      "source": [
        "# import the libraries\n",
        "\n",
        "import numpy as np\n",
        "import pandas as pd\n",
        "import matplotlib.pyplot as plt"
      ]
    },
    {
      "cell_type": "code",
      "source": [
        "# Read the data\n",
        "\n",
        "df = pd.read_csv('sheet1.csv', sep = ',')"
      ],
      "metadata": {
        "id": "1xx01qMiNuR6"
      },
      "execution_count": 30,
      "outputs": []
    },
    {
      "cell_type": "code",
      "source": [
        "print(df)"
      ],
      "metadata": {
        "colab": {
          "base_uri": "https://localhost:8080/"
        },
        "id": "u2niS-6JN6fF",
        "outputId": "a5ac3b43-9245-4738-e752-c999f47e8ad3"
      },
      "execution_count": 31,
      "outputs": [
        {
          "output_type": "stream",
          "name": "stdout",
          "text": [
            "    obs\n",
            "0     5\n",
            "1     4\n",
            "2     4\n",
            "3     5\n",
            "4     5\n",
            "..  ...\n",
            "95    6\n",
            "96    8\n",
            "97    6\n",
            "98    2\n",
            "99    3\n",
            "\n",
            "[100 rows x 1 columns]\n"
          ]
        }
      ]
    },
    {
      "cell_type": "code",
      "source": [
        "# plot the histogram\n",
        "\n",
        "plt.hist(df['obs'])\n",
        "plt.show()"
      ],
      "metadata": {
        "colab": {
          "base_uri": "https://localhost:8080/",
          "height": 265
        },
        "id": "b8u6PWuBOGS8",
        "outputId": "b7f7a79f-c2a9-4f61-824c-dd988758da96"
      },
      "execution_count": 32,
      "outputs": [
        {
          "output_type": "display_data",
          "data": {
            "text/plain": [
              "<Figure size 432x288 with 1 Axes>"
            ],
            "image/png": "[encoded data removed]"
          },
          "metadata": {
            "needs_background": "light"
          }
        }
      ]
    },
    {
      "cell_type": "code",
      "source": [
        "# Check the statistics\n",
        "df.describe()"
      ],
      "metadata": {
        "colab": {
          "base_uri": "https://localhost:8080/",
          "height": 300
        },
        "id": "YE9ur-LAOTTl",
        "outputId": "d8aafdbe-e39c-42ec-b686-23d88c721fc8"
      },
      "execution_count": 33,
      "outputs": [
        {
          "output_type": "execute_result",
          "data": {
            "text/plain": [
              "              obs\n",
              "count  100.000000\n",
              "mean     4.940000\n",
              "std      2.381834\n",
              "min      1.000000\n",
              "25%      3.000000\n",
              "50%      5.000000\n",
              "75%      6.000000\n",
              "max     11.000000"
            ],
            "text/html": [
              "\n",
              "  <div id=\"df-9f00400d-3f60-423b-9000-457eee6bc891\">\n",
              "    <div class=\"colab-df-container\">\n",
              "      <div>\n",
              "<style scoped>\n",
              "    .dataframe tbody tr th:only-of-type {\n",
              "        vertical-align: middle;\n",
              "    }\n",
              "\n",
              "    .dataframe tbody tr th {\n",
              "        vertical-align: top;\n",
              "    }\n",
              "\n",
              "    .dataframe thead th {\n",
              "        text-align: right;\n",
              "    }\n",
              "</style>\n",
              "<table border=\"1\" class=\"dataframe\">\n",
              "  <thead>\n",
              "    <tr style=\"text-align: right;\">\n",
              "      <th></th>\n",
              "      <th>obs</th>\n",
              "    </tr>\n",
              "  </thead>\n",
              "  <tbody>\n",
              "    <tr>\n",
              "      <th>count</th>\n",
              "      <td>100.000000</td>\n",
              "    </tr>\n",
              "    <tr>\n",
              "      <th>mean</th>\n",
              "      <td>4.940000</td>\n",
              "    </tr>\n",
              "    <tr>\n",
              "      <th>std</th>\n",
              "      <td>2.381834</td>\n",
              "    </tr>\n",
              "    <tr>\n",
              "      <th>min</th>\n",
              "      <td>1.000000</td>\n",
              "    </tr>\n",
              "    <tr>\n",
              "      <th>25%</th>\n",
              "      <td>3.000000</td>\n",
              "    </tr>\n",
              "    <tr>\n",
              "      <th>50%</th>\n",
              "      <td>5.000000</td>\n",
              "    </tr>\n",
              "    <tr>\n",
              "      <th>75%</th>\n",
              "      <td>6.000000</td>\n",
              "    </tr>\n",
              "    <tr>\n",
              "      <th>max</th>\n",
              "      <td>11.000000</td>\n",
              "    </tr>\n",
              "  </tbody>\n",
              "</table>\n",
              "</div>\n",
              "      <button class=\"colab-df-convert\" onclick=\"convertToInteractive('df-9f00400d-3f60-423b-9000-457eee6bc891')\"\n",
              "              title=\"Convert this dataframe to an interactive table.\"\n",
              "              style=\"display:none;\">\n",
              "        \n",
              "  <svg xmlns=\"http://www.w3.org/2000/svg\" height=\"24px\"viewBox=\"0 0 24 24\"\n",
              "       width=\"24px\">\n",
              "    <path d=\"M0 0h24v24H0V0z\" fill=\"none\"/>\n",
              "    <path d=\"M18.56 5.44l.94 2.06.94-2.06 2.06-.94-2.06-.94-.94-2.06-.94 2.06-2.06.94zm-11 1L8.5 8.5l.94-2.06 2.06-.94-2.06-.94L8.5 2.5l-.94 2.06-2.06.94zm10 10l.94 2.06.94-2.06 2.06-.94-2.06-.94-.94-2.06-.94 2.06-2.06.94z\"/><path d=\"M17.41 7.96l-1.37-1.37c-.4-.4-.92-.59-1.43-.59-.52 0-1.04.2-1.43.59L10.3 9.45l-7.72 7.72c-.78.78-.78 2.05 0 2.83L4 21.41c.39.39.9.59 1.41.59.51 0 1.02-.2 1.41-.59l7.78-7.78 2.81-2.81c.8-.78.8-2.07 0-2.86zM5.41 20L4 18.59l7.72-7.72 1.47 1.35L5.41 20z\"/>\n",
              "  </svg>\n",
              "      </button>\n",
              "      \n",
              "  <style>\n",
              "    .colab-df-container {\n",
              "      display:flex;\n",
              "      flex-wrap:wrap;\n",
              "      gap: 12px;\n",
              "    }\n",
              "\n",
              "    .colab-df-convert {\n",
              "      background-color: #E8F0FE;\n",
              "      border: none;\n",
              "      border-radius: 50%;\n",
              "      cursor: pointer;\n",
              "      display: none;\n",
              "      fill: #1967D2;\n",
              "      height: 32px;\n",
              "      padding: 0 0 0 0;\n",
              "      width: 32px;\n",
              "    }\n",
              "\n",
              "    .colab-df-convert:hover {\n",
              "      background-color: #E2EBFA;\n",
              "      box-shadow: 0px 1px 2px rgba(60, 64, 67, 0.3), 0px 1px 3px 1px rgba(60, 64, 67, 0.15);\n",
              "      fill: #174EA6;\n",
              "    }\n",
              "\n",
              "    [theme=dark] .colab-df-convert {\n",
              "      background-color: #3B4455;\n",
              "      fill: #D2E3FC;\n",
              "    }\n",
              "\n",
              "    [theme=dark] .colab-df-convert:hover {\n",
              "      background-color: #434B5C;\n",
              "      box-shadow: 0px 1px 3px 1px rgba(0, 0, 0, 0.15);\n",
              "      filter: drop-shadow(0px 1px 2px rgba(0, 0, 0, 0.3));\n",
              "      fill: #FFFFFF;\n",
              "    }\n",
              "  </style>\n",
              "\n",
              "      <script>\n",
              "        const buttonEl =\n",
              "          document.querySelector('#df-9f00400d-3f60-423b-9000-457eee6bc891 button.colab-df-convert');\n",
              "        buttonEl.style.display =\n",
              "          google.colab.kernel.accessAllowed ? 'block' : 'none';\n",
              "\n",
              "        async function convertToInteractive(key) {\n",
              "          const element = document.querySelector('#df-9f00400d-3f60-423b-9000-457eee6bc891');\n",
              "          const dataTable =\n",
              "            await google.colab.kernel.invokeFunction('convertToInteractive',\n",
              "                                                     [key], {});\n",
              "          if (!dataTable) return;\n",
              "\n",
              "          const docLinkHtml = 'Like what you see? Visit the ' +\n",
              "            '<a target=\"_blank\" href=https://colab.research.google.com/notebooks/data_table.ipynb>data table notebook</a>'\n",
              "            + ' to learn more about interactive tables.';\n",
              "          element.innerHTML = '';\n",
              "          dataTable['output_type'] = 'display_data';\n",
              "          await google.colab.output.renderOutput(dataTable, element);\n",
              "          const docLink = document.createElement('div');\n",
              "          docLink.innerHTML = docLinkHtml;\n",
              "          element.appendChild(docLink);\n",
              "        }\n",
              "      </script>\n",
              "    </div>\n",
              "  </div>\n",
              "  "
            ]
          },
          "metadata": {},
          "execution_count": 33
        }
      ]
    },
    {
      "cell_type": "code",
      "source": [
        "# Getting some more statistics out of the data:\n",
        "\n",
        "stats_labels = ['Mean_Observed', 'Variance_observed', 'skew_observed', 'kurt_observed']\n",
        "stats_values = [round(df['obs'].mean(),2), round(df['obs'].var(),2), round(df['obs'].skew(),2),round(df['obs'].kurt(),2)]\n",
        "print(set(zip(stats_labels, stats_values)))"
      ],
      "metadata": {
        "colab": {
          "base_uri": "https://localhost:8080/"
        },
        "id": "cbhpcznqOVqk",
        "outputId": "6365e129-d774-4e7d-bcf0-9966655bb1ae"
      },
      "execution_count": 34,
      "outputs": [
        {
          "output_type": "stream",
          "name": "stdout",
          "text": [
            "{('kurt_observed', -0.38), ('Variance_observed', 5.67), ('skew_observed', 0.51), ('Mean_Observed', 4.94)}\n"
          ]
        }
      ]
    },
    {
      "cell_type": "code",
      "source": [
        "df.median()\n",
        "\n",
        "# mean and variance is almost close to each other >> can be a poisson distribution?\n",
        "# skewness is 0.51\n",
        "# kurt is -0.38\n",
        "# mean and median is same >> Symmetric distribution 100%"
      ],
      "metadata": {
        "colab": {
          "base_uri": "https://localhost:8080/"
        },
        "id": "SJ4uEo3RPbTP",
        "outputId": "79543f40-d627-4553-c1e6-02294e759f57"
      },
      "execution_count": 35,
      "outputs": [
        {
          "output_type": "execute_result",
          "data": {
            "text/plain": [
              "obs    5.0\n",
              "dtype: float64"
            ]
          },
          "metadata": {},
          "execution_count": 35
        }
      ]
    },
    {
      "cell_type": "code",
      "source": [
        "CV = 2.38/4.94\n",
        "print(CV)"
      ],
      "metadata": {
        "colab": {
          "base_uri": "https://localhost:8080/"
        },
        "id": "eawvDSwdPpdf",
        "outputId": "329f2892-d685-4e90-d869-fe074768ff70"
      },
      "execution_count": 36,
      "outputs": [
        {
          "output_type": "stream",
          "name": "stdout",
          "text": [
            "0.48178137651821856\n"
          ]
        }
      ]
    },
    {
      "cell_type": "code",
      "source": [
        "# We dont have enough evidence that suggests its a poisson. A good way can be to go for chi square goodness of fit!!"
      ],
      "metadata": {
        "id": "vAKrPWkYQEMK"
      },
      "execution_count": 37,
      "outputs": []
    },
    {
      "cell_type": "code",
      "source": [
        "# import some statistics modules\n",
        "\n",
        "import statsmodels.api as sm\n",
        "import scipy.stats as stats"
      ],
      "metadata": {
        "id": "UM9ZkzuaQyhk"
      },
      "execution_count": 38,
      "outputs": []
    },
    {
      "cell_type": "code",
      "source": [
        "# lets have a look at p-p plot:\n",
        "# comparing with standard normal: \n",
        "\n",
        "stats.probplot(df['obs'], sparams = (4.94,), plot = plt)\n",
        "plt.show()"
      ],
      "metadata": {
        "colab": {
          "base_uri": "https://localhost:8080/",
          "height": 295
        },
        "id": "jJWmVey1RLtn",
        "outputId": "8d4fa4ab-3a44-43ea-d2c9-e38a6d9b5ce5"
      },
      "execution_count": 39,
      "outputs": [
        {
          "output_type": "display_data",
          "data": {
            "text/plain": [
              "<Figure size 432x288 with 1 Axes>"
            ],
            "image/png": "[encoded data removed]"
          },
          "metadata": {
            "needs_background": "light"
          }
        }
      ]
    },
    {
      "cell_type": "code",
      "source": [
        "# this particular plot shows that the observations are not lying on straight line and are parallel to each other. So, we cant say its standard normal"
      ],
      "metadata": {
        "id": "wFI5wRhZRrVq"
      },
      "execution_count": 40,
      "outputs": []
    },
    {
      "cell_type": "code",
      "source": [
        "# lets fit with poisson and see what do we get:\n",
        "\n",
        "stats.probplot(df['obs'], dist = 'poisson', sparams = (4.94,), plot = plt)\n",
        "plt.show()"
      ],
      "metadata": {
        "colab": {
          "base_uri": "https://localhost:8080/",
          "height": 295
        },
        "id": "p5K8QVmJSMtb",
        "outputId": "b782bc91-0ea6-4c9b-c925-8532275b12af"
      },
      "execution_count": 41,
      "outputs": [
        {
          "output_type": "display_data",
          "data": {
            "text/plain": [
              "<Figure size 432x288 with 1 Axes>"
            ],
            "image/png": "[encoded data removed]"
          },
          "metadata": {
            "needs_background": "light"
          }
        }
      ]
    },
    {
      "cell_type": "code",
      "source": [
        "# the points are almost around the same line\n",
        "\n",
        "# so we can conclude that the graph is infact poisson"
      ],
      "metadata": {
        "id": "dE_a1Mo6SWRi"
      },
      "execution_count": 42,
      "outputs": []
    },
    {
      "cell_type": "markdown",
      "source": [
        "Lets establish that its a poisson using statistical technique"
      ],
      "metadata": {
        "id": "8esa9vk8TCZD"
      }
    },
    {
      "cell_type": "code",
      "source": [
        "# Lets create some bins:\n",
        "grouped_df = pd.DataFrame()\n",
        "grouped_df['frequency'] = df.groupby('obs')['obs'].count() \n",
        "print(grouped_df)"
      ],
      "metadata": {
        "colab": {
          "base_uri": "https://localhost:8080/"
        },
        "id": "FYxb_7zrS8Uo",
        "outputId": "c5303d81-05e6-4a67-c6b7-85e37ddfa205"
      },
      "execution_count": 43,
      "outputs": [
        {
          "output_type": "stream",
          "name": "stdout",
          "text": [
            "     frequency\n",
            "obs           \n",
            "1            3\n",
            "2           14\n",
            "3           15\n",
            "4           16\n",
            "5           13\n",
            "6           15\n",
            "7            8\n",
            "8            7\n",
            "9            5\n",
            "10           2\n",
            "11           2\n"
          ]
        }
      ]
    },
    {
      "cell_type": "code",
      "source": [
        "grouped_df['obs_probability'] = grouped_df['frequency']/len(df)\n",
        "print(grouped_df)"
      ],
      "metadata": {
        "colab": {
          "base_uri": "https://localhost:8080/"
        },
        "id": "sCXrc5RLTTCH",
        "outputId": "6647dce9-e405-4ef2-f94a-0572672fa1c0"
      },
      "execution_count": 44,
      "outputs": [
        {
          "output_type": "stream",
          "name": "stdout",
          "text": [
            "     frequency  obs_probability\n",
            "obs                            \n",
            "1            3             0.03\n",
            "2           14             0.14\n",
            "3           15             0.15\n",
            "4           16             0.16\n",
            "5           13             0.13\n",
            "6           15             0.15\n",
            "7            8             0.08\n",
            "8            7             0.07\n",
            "9            5             0.05\n",
            "10           2             0.02\n",
            "11           2             0.02\n"
          ]
        }
      ]
    },
    {
      "cell_type": "code",
      "source": [
        "# Now calculate the theoreotical probability\n",
        "from scipy import stats\n",
        "from scipy.stats import poisson\n",
        "from scipy.stats import chisquare"
      ],
      "metadata": {
        "id": "etFjXpTVTcod"
      },
      "execution_count": 76,
      "outputs": []
    },
    {
      "cell_type": "code",
      "source": [
        "poisson.pmf"
      ],
      "metadata": {
        "colab": {
          "base_uri": "https://localhost:8080/"
        },
        "id": "CpF9lHKDVG1R",
        "outputId": "e28a4609-4795-42b9-993d-8cbe770cb839"
      },
      "execution_count": 77,
      "outputs": [
        {
          "output_type": "execute_result",
          "data": {
            "text/plain": [
              "<bound method rv_discrete.pmf of <scipy.stats._discrete_distns.poisson_gen object at 0x7f2c772ef2b0>>"
            ]
          },
          "metadata": {},
          "execution_count": 77
        }
      ]
    },
    {
      "cell_type": "code",
      "source": [
        "grouped_df\n",
        "grouped_df['poisson_pmf'] = poisson.pmf(k = grouped_df.index, mu = df['obs'].mean())\n",
        "grouped_df['poisson_frq'] = grouped_df['poisson_pmf']*len(df)"
      ],
      "metadata": {
        "id": "17djuQpvVImT"
      },
      "execution_count": 90,
      "outputs": []
    },
    {
      "cell_type": "code",
      "source": [
        "print(grouped_df)"
      ],
      "metadata": {
        "colab": {
          "base_uri": "https://localhost:8080/"
        },
        "id": "SFa0j5SfVo44",
        "outputId": "20562597-9a9c-48a8-9c74-9b7ca2a87538"
      },
      "execution_count": 91,
      "outputs": [
        {
          "output_type": "stream",
          "name": "stdout",
          "text": [
            "     frequency  obs_probability  poisson_pmf  poisson_frq\n",
            "obs                                                      \n",
            "1            3             0.03     0.035344     3.534372\n",
            "2           14             0.14     0.087299     8.729898\n",
            "3           15             0.15     0.143752    14.375232\n",
            "4           16             0.16     0.177534    17.753411\n",
            "5           13             0.13     0.175404    17.540370\n",
            "6           15             0.15     0.144416    14.441572\n",
            "7            8             0.08     0.101916    10.191623\n",
            "8            7             0.07     0.062933     6.293327\n",
            "9            5             0.05     0.034543     3.454337\n",
            "10           2             0.02     0.017064     1.706443\n",
            "11           2             0.02     0.007663     0.766348\n"
          ]
        }
      ]
    },
    {
      "cell_type": "code",
      "source": [
        "# round off the poisson frequecy since its a discrete random variable:\n",
        "\n",
        "grouped_df['poisson_frq'] = [round(elem, 2) for elem in grouped_df['poisson_frq']]\n",
        "print(grouped_df)"
      ],
      "metadata": {
        "colab": {
          "base_uri": "https://localhost:8080/"
        },
        "id": "SHpBpzmTVtqW",
        "outputId": "6aba6de9-d781-4b68-c62d-d3962d7c6a46"
      },
      "execution_count": 92,
      "outputs": [
        {
          "output_type": "stream",
          "name": "stdout",
          "text": [
            "     frequency  obs_probability  poisson_pmf  poisson_frq\n",
            "obs                                                      \n",
            "1            3             0.03     0.035344         3.53\n",
            "2           14             0.14     0.087299         8.73\n",
            "3           15             0.15     0.143752        14.38\n",
            "4           16             0.16     0.177534        17.75\n",
            "5           13             0.13     0.175404        17.54\n",
            "6           15             0.15     0.144416        14.44\n",
            "7            8             0.08     0.101916        10.19\n",
            "8            7             0.07     0.062933         6.29\n",
            "9            5             0.05     0.034543         3.45\n",
            "10           2             0.02     0.017064         1.71\n",
            "11           2             0.02     0.007663         0.77\n"
          ]
        }
      ]
    },
    {
      "cell_type": "code",
      "source": [
        "# This chi-squared test for goodness of fit indeed requires the sums of both inputs to be (almost) the same.\n",
        "grouped_df['poisson_frq'].sum() == grouped_df['frequency'].sum()"
      ],
      "metadata": {
        "colab": {
          "base_uri": "https://localhost:8080/"
        },
        "id": "ZlZKeITZwg5K",
        "outputId": "c388409f-36ab-463d-fae3-192a9aa84f89"
      },
      "execution_count": 94,
      "outputs": [
        {
          "output_type": "execute_result",
          "data": {
            "text/plain": [
              "False"
            ]
          },
          "metadata": {},
          "execution_count": 94
        }
      ]
    },
    {
      "cell_type": "code",
      "source": [
        "obs = grouped_df['frequency'].sum()\n",
        "exp = grouped_df['poisson_frq'].sum()\n",
        "ratio = obs/exp\n",
        "print(ratio)\n",
        "\n",
        "grouped_df['expfrq'] = grouped_df['poisson_frq']*ratio\n",
        "print(grouped_df)\n",
        "\n",
        "grouped_df['expfrq'].sum() # which is nearly equal to freq sum"
      ],
      "metadata": {
        "colab": {
          "base_uri": "https://localhost:8080/"
        },
        "id": "ne7INOq-xmxq",
        "outputId": "000b23bf-9bb2-470c-dbb3-f93e723695f9"
      },
      "execution_count": 101,
      "outputs": [
        {
          "output_type": "stream",
          "name": "stdout",
          "text": [
            "1.0123506782749545\n",
            "     frequency  obs_probability  poisson_pmf  poisson_frq     expfrq\n",
            "obs                                                                 \n",
            "1            3             0.03     0.035344         3.53   3.573598\n",
            "2           14             0.14     0.087299         8.73   8.837821\n",
            "3           15             0.15     0.143752        14.38  14.557603\n",
            "4           16             0.16     0.177534        17.75  17.969225\n",
            "5           13             0.13     0.175404        17.54  17.756631\n",
            "6           15             0.15     0.144416        14.44  14.618344\n",
            "7            8             0.08     0.101916        10.19  10.315853\n",
            "8            7             0.07     0.062933         6.29   6.367686\n",
            "9            5             0.05     0.034543         3.45   3.492610\n",
            "10           2             0.02     0.017064         1.71   1.731120\n",
            "11           2             0.02     0.007663         0.77   0.779510\n"
          ]
        },
        {
          "output_type": "execute_result",
          "data": {
            "text/plain": [
              "99.99999999999999"
            ]
          },
          "metadata": {},
          "execution_count": 101
        }
      ]
    },
    {
      "cell_type": "code",
      "source": [
        " obs_frq = list(grouped_df['frequency'])\n",
        " expec_frq = list(grouped_df['expfrq'])\n",
        " print(obs_frq, expec_frq)"
      ],
      "metadata": {
        "colab": {
          "base_uri": "https://localhost:8080/"
        },
        "id": "q7TU5c7crEg5",
        "outputId": "0f13500d-04ee-4158-fda9-532de6b0ed49"
      },
      "execution_count": 103,
      "outputs": [
        {
          "output_type": "stream",
          "name": "stdout",
          "text": [
            "[3, 14, 15, 16, 13, 15, 8, 7, 5, 2, 2] [3.573597894310589, 8.837821421340353, 14.557602753593846, 17.96922453938044, 17.756630896942703, 14.618343794290343, 10.315853411621786, 6.367685766349464, 3.492609840048593, 1.7311196598501721, 0.779510022271715]\n"
          ]
        }
      ]
    },
    {
      "cell_type": "markdown",
      "source": [
        "Null Hypothesis: given data follows the Poisson Distribution\n",
        "\n",
        "Alternate Hypothesis: Given data does not follow the poissson distribution"
      ],
      "metadata": {
        "id": "ccYqjAQtr0j_"
      }
    },
    {
      "cell_type": "code",
      "source": [
        "stats.chisquare(obs_frq, expec_frq)"
      ],
      "metadata": {
        "colab": {
          "base_uri": "https://localhost:8080/"
        },
        "id": "ZlghE8FLryk0",
        "outputId": "9420bba1-0947-4e64-c493-e2984a0642c6"
      },
      "execution_count": 104,
      "outputs": [
        {
          "output_type": "execute_result",
          "data": {
            "text/plain": [
              "Power_divergenceResult(statistic=7.806684352048819, pvalue=0.6477132278254244)"
            ]
          },
          "metadata": {},
          "execution_count": 104
        }
      ]
    },
    {
      "cell_type": "code",
      "source": [
        "# whenever interpreting p value: It is basically going to tell us the probability of observing this sample when null hypothesis is true. Here porbability is almost 64%\n",
        "# alpha value we give and if p value is greather than alpha then null is acceptable"
      ],
      "metadata": {
        "id": "AKTGvVKJtFwO"
      },
      "execution_count": 64,
      "outputs": []
    },
    {
      "cell_type": "code",
      "source": [
        "# another way:\n",
        "\n",
        "# tabulated chi2 value for confidence interval of 95%\n",
        "# k = 11 classes / number of buckets\n",
        "# p = no of parameters we estimate/compute = mean = one parameter = 1\n",
        "# dof = k-p-1 = 11 - 1 - 1 = 9\n",
        "\n",
        "import scipy.stats\n",
        "scipy.stats.chi2.ppf(1-0.05, df=9)"
      ],
      "metadata": {
        "colab": {
          "base_uri": "https://localhost:8080/"
        },
        "id": "I6Dk2p3wsH-h",
        "outputId": "6e072a60-7850-4e68-bcbc-b1746b3fcf93"
      },
      "execution_count": 105,
      "outputs": [
        {
          "output_type": "execute_result",
          "data": {
            "text/plain": [
              "16.918977604620448"
            ]
          },
          "metadata": {},
          "execution_count": 105
        }
      ]
    },
    {
      "cell_type": "code",
      "source": [
        "# if tabulated value > Computed value then do not reject Null Hypothesis\n",
        "\n",
        "# in our case tabulated value = 16.91 > 7.806 i.e. computed value thus we accept the null"
      ],
      "metadata": {
        "id": "2E6jKtyutcLq"
      },
      "execution_count": 106,
      "outputs": []
    },
    {
      "cell_type": "code",
      "source": [],
      "metadata": {
        "id": "xKs_jqjKtfBT"
      },
      "execution_count": null,
      "outputs": []
    }
  ]
}