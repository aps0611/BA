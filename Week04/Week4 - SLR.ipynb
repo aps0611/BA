{
 "cells": [
  {
   "cell_type": "markdown",
   "id": "bb97dae0",
   "metadata": {},
   "source": []
  },
  {
   "cell_type": "code",
   "execution_count": 18,
   "id": "6a1fc37a",
   "metadata": {},
   "outputs": [],
   "source": [
    "# Import the libraries\n",
    "\n",
    "import pandas as pd\n",
    "import numpy as np\n",
    "import matplotlib.pyplot as plt\n",
    "%matplotlib inline"
   ]
  },
  {
   "cell_type": "code",
   "execution_count": 19,
   "id": "26196a62",
   "metadata": {},
   "outputs": [],
   "source": [
    "# Get the data\n",
    "df = pd.read_csv('file.csv')"
   ]
  },
  {
   "cell_type": "code",
   "execution_count": 20,
   "id": "6a281449",
   "metadata": {},
   "outputs": [
    {
     "data": {
      "text/html": [
       "<div>\n",
       "<style scoped>\n",
       "    .dataframe tbody tr th:only-of-type {\n",
       "        vertical-align: middle;\n",
       "    }\n",
       "\n",
       "    .dataframe tbody tr th {\n",
       "        vertical-align: top;\n",
       "    }\n",
       "\n",
       "    .dataframe thead th {\n",
       "        text-align: right;\n",
       "    }\n",
       "</style>\n",
       "<table border=\"1\" class=\"dataframe\">\n",
       "  <thead>\n",
       "    <tr style=\"text-align: right;\">\n",
       "      <th></th>\n",
       "      <th>Price</th>\n",
       "      <th>Demand</th>\n",
       "    </tr>\n",
       "  </thead>\n",
       "  <tbody>\n",
       "    <tr>\n",
       "      <th>0</th>\n",
       "      <td>3.0</td>\n",
       "      <td>6791</td>\n",
       "    </tr>\n",
       "    <tr>\n",
       "      <th>1</th>\n",
       "      <td>3.6</td>\n",
       "      <td>5988</td>\n",
       "    </tr>\n",
       "    <tr>\n",
       "      <th>2</th>\n",
       "      <td>40.0</td>\n",
       "      <td>354</td>\n",
       "    </tr>\n",
       "    <tr>\n",
       "      <th>3</th>\n",
       "      <td>21.0</td>\n",
       "      <td>651</td>\n",
       "    </tr>\n",
       "    <tr>\n",
       "      <th>4</th>\n",
       "      <td>4.0</td>\n",
       "      <td>7111</td>\n",
       "    </tr>\n",
       "  </tbody>\n",
       "</table>\n",
       "</div>"
      ],
      "text/plain": [
       "   Price   Demand\n",
       "0     3.0    6791\n",
       "1     3.6    5988\n",
       "2    40.0     354\n",
       "3    21.0     651\n",
       "4     4.0    7111"
      ]
     },
     "execution_count": 20,
     "metadata": {},
     "output_type": "execute_result"
    }
   ],
   "source": [
    "df.head(5)"
   ]
  },
  {
   "cell_type": "code",
   "execution_count": 21,
   "id": "5c87c484",
   "metadata": {},
   "outputs": [
    {
     "data": {
      "text/plain": [
       "(array([ 3. ,  3.6, 40. , 21. ,  4. , 30. , 29. , 18. ,  9. ,  6. ,  5. ,\n",
       "         8. , 15. , 32. , 20. , 10. , 17. ,  7. , 39. ,  4. , 35. , 39. ,\n",
       "        44. , 40. , 25. ,  8. ,  5. ,  8. , 10. , 14. , 26. ]),\n",
       " array([6791, 5988,  354,  651, 7111,  406,  577,  655, 2891, 5589, 6707,\n",
       "        4081, 2702,  370, 1251, 3140, 2469, 4909,  396, 7017,  484,  297,\n",
       "         141,  193, 2801, 3731, 7444, 3910, 2678, 1833, 2946], dtype=int64))"
      ]
     },
     "execution_count": 21,
     "metadata": {},
     "output_type": "execute_result"
    }
   ],
   "source": [
    "# mark the response variable(y) and predictor (c)\n",
    "X = df.iloc[:,0].values\n",
    "y = df.iloc[:,1].values\n",
    "X,y"
   ]
  },
  {
   "cell_type": "code",
   "execution_count": 22,
   "id": "2a8f5fb7",
   "metadata": {},
   "outputs": [
    {
     "data": {
      "text/plain": [
       "[]"
      ]
     },
     "execution_count": 22,
     "metadata": {},
     "output_type": "execute_result"
    },
    {
     "data": {
      "image/png": "[encoded data removed]",
      "text/plain": [
       "<Figure size 432x288 with 1 Axes>"
      ]
     },
     "metadata": {
      "needs_background": "light"
     },
     "output_type": "display_data"
    }
   ],
   "source": [
    "# check whether there is a linear pattern between X and y\n",
    "\n",
    "plt.scatter(X,y)\n",
    "plt.plot()"
   ]
  },
  {
   "cell_type": "code",
   "execution_count": 23,
   "id": "eff66527",
   "metadata": {},
   "outputs": [
    {
     "data": {
      "text/plain": [
       "LinearRegression()"
      ]
     },
     "execution_count": 23,
     "metadata": {},
     "output_type": "execute_result"
    }
   ],
   "source": [
    "# fitting the SLR model:\n",
    "\n",
    "# reshape the data using array.reshape(-1,1) if your data has one feature\n",
    "\n",
    "from sklearn.linear_model import LinearRegression\n",
    "regressor = LinearRegression()\n",
    "regressor.fit(X.reshape(-1,1),y)\n"
   ]
  },
  {
   "cell_type": "code",
   "execution_count": 24,
   "id": "53ada3c8",
   "metadata": {},
   "outputs": [
    {
     "name": "stdout",
     "output_type": "stream",
     "text": [
      "[-157.70087387]\n"
     ]
    }
   ],
   "source": [
    "# output\n",
    "\n",
    "print(regressor.coef_)"
   ]
  },
  {
   "cell_type": "code",
   "execution_count": 25,
   "id": "158f9970",
   "metadata": {},
   "outputs": [
    {
     "name": "stdout",
     "output_type": "stream",
     "text": [
      "5842.836197653771\n"
     ]
    }
   ],
   "source": [
    "print(regressor.intercept_)"
   ]
  },
  {
   "cell_type": "code",
   "execution_count": 26,
   "id": "7af69877",
   "metadata": {},
   "outputs": [
    {
     "name": "stdout",
     "output_type": "stream",
     "text": [
      "0.7338976168337803\n"
     ]
    }
   ],
   "source": [
    "# r2 score\n",
    "from sklearn.metrics import r2_score\n",
    "y_pred = regressor.predict(X.reshape(-1,1))\n",
    "score = r2_score(y,y_pred)\n",
    "print(score)"
   ]
  },
  {
   "cell_type": "code",
   "execution_count": 27,
   "id": "9d87a744",
   "metadata": {},
   "outputs": [
    {
     "data": {
      "text/plain": [
       "array([82.40752393, 77.38216849, 18.81488772, 25.51470164, 84.32674546,\n",
       "       20.14944168, 24.0208243 , 25.59296778, 53.76802024, 74.75961477,\n",
       "       81.89627586, 63.88270501, 51.98076567, 19.23538406, 35.36947837,\n",
       "       56.0357029 , 49.689033  , 70.06425622, 19.89974874, 83.76753548,\n",
       "       22.        , 17.23368794, 11.87434209, 13.89244399, 52.92447449,\n",
       "       61.08191222, 86.27861844, 62.5299928 , 51.74939613, 42.81354926,\n",
       "       54.27706698])"
      ]
     },
     "execution_count": 27,
     "metadata": {},
     "output_type": "execute_result"
    }
   ],
   "source": [
    "# transformation:\n",
    "\n",
    "y_new = np.sqrt(y)\n",
    "y_new"
   ]
  },
  {
   "cell_type": "code",
   "execution_count": 33,
   "id": "44ec4728",
   "metadata": {},
   "outputs": [
    {
     "name": "stdout",
     "output_type": "stream",
     "text": [
      "[-157.70087387]\n",
      "5842.836197653771\n"
     ]
    }
   ],
   "source": [
    "regressor1 = LinearRegression()\n",
    "regressor1.fit(X.reshape(-1,1),y)\n",
    "\n",
    "print(regressor1.coef_)\n",
    "print(regressor1.intercept_)\n",
    "\n",
    "y_pred1 = regressor1.predict(X.reshape(-1,1))\n",
    "score1 = r2_score(y_new,y_pred1)\n"
   ]
  },
  {
   "cell_type": "code",
   "execution_count": 32,
   "id": "7a91763e",
   "metadata": {},
   "outputs": [
    {
     "name": "stdout",
     "output_type": "stream",
     "text": [
      "-20981.582605389936\n"
     ]
    }
   ],
   "source": [
    "print(score1)"
   ]
  },
  {
   "cell_type": "code",
   "execution_count": null,
   "id": "1db0d54b",
   "metadata": {},
   "outputs": [],
   "source": []
  },
  {
   "cell_type": "code",
   "execution_count": null,
   "id": "901bbf36",
   "metadata": {},
   "outputs": [],
   "source": []
  },
  {
   "cell_type": "code",
   "execution_count": null,
   "id": "aed4ec0d",
   "metadata": {},
   "outputs": [],
   "source": []
  }
 ],
 "metadata": {
  "kernelspec": {
   "display_name": "Python 3 (ipykernel)",
   "language": "python",
   "name": "python3"
  },
  "language_info": {
   "codemirror_mode": {
    "name": "ipython",
    "version": 3
   },
   "file_extension": ".py",
   "mimetype": "text/x-python",
   "name": "python",
   "nbconvert_exporter": "python",
   "pygments_lexer": "ipython3",
   "version": "3.9.7"
  }
 },
 "nbformat": 4,
 "nbformat_minor": 5
}
